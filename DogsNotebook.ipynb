{
 "cells": [
  {
   "cell_type": "code",
   "execution_count": 1,
   "metadata": {},
   "outputs": [
    {
     "name": "stdout",
     "output_type": "stream",
     "text": [
      "/dev/video0\r\n"
     ]
    }
   ],
   "source": [
    "!ls /dev/vid*"
   ]
  },
  {
   "cell_type": "code",
   "execution_count": 41,
   "metadata": {},
   "outputs": [],
   "source": [
    "import jetson_inference\n",
    "import jetson_utils\n",
    "from jetson_utils import cudaCrop,cudaDeviceSynchronize,cudaAllocMapped, saveImage\n",
    "import time\n",
    "import datetime\n",
    "import os"
   ]
  },
  {
   "cell_type": "code",
   "execution_count": 3,
   "metadata": {},
   "outputs": [
    {
     "name": "stdout",
     "output_type": "stream",
     "text": [
      "Time spent to Load Video: 201 seconds\n"
     ]
    }
   ],
   "source": [
    "#Instanciate Detection Objects\n",
    "#net = jetson_inference.detectNet(\"ssd-mobilenet-v2\",threshold=0.5)\n",
    "starttime = time.time()\n",
    "video_net = jetson_inference.detectNet(\"coco-dog\",['--log-level=error'],threshold=0.5)\n",
    "print(f\"Time spent to Load Video: {int(time.time()-starttime)} seconds\")"
   ]
  },
  {
   "cell_type": "code",
   "execution_count": 4,
   "metadata": {},
   "outputs": [],
   "source": [
    "# Define the video Source.\n",
    "video_camera = jetson_utils.videoSource(\"/dev/video0\")"
   ]
  },
  {
   "cell_type": "code",
   "execution_count": 3,
   "metadata": {},
   "outputs": [],
   "source": [
    "display = jetson_utils.videoOutput(\"file://dog_video.mp4\")"
   ]
  },
  {
   "cell_type": "code",
   "execution_count": 5,
   "metadata": {},
   "outputs": [
    {
     "name": "stdout",
     "output_type": "stream",
     "text": [
      "Time spent to Create Network: 4 seconds\n"
     ]
    }
   ],
   "source": [
    "#Instanciate Image Recognition Objects\n",
    "starttime = time.time()\n",
    "image_net = jetson_inference.imageNet('googlenet',['--log-level=error'])\n",
    "print(f\"Time spent to Create Network: {int(time.time()-starttime)} seconds\")"
   ]
  },
  {
   "cell_type": "code",
   "execution_count": 45,
   "metadata": {},
   "outputs": [
    {
     "data": {
      "text/plain": [
       "['Area',\n",
       " 'Bottom',\n",
       " 'Center',\n",
       " 'ClassID',\n",
       " 'Confidence',\n",
       " 'Contains',\n",
       " 'Height',\n",
       " 'Instance',\n",
       " 'Left',\n",
       " 'ROI',\n",
       " 'Right',\n",
       " 'Top',\n",
       " 'Width',\n",
       " '__class__',\n",
       " '__delattr__',\n",
       " '__dir__',\n",
       " '__doc__',\n",
       " '__eq__',\n",
       " '__format__',\n",
       " '__ge__',\n",
       " '__getattribute__',\n",
       " '__gt__',\n",
       " '__hash__',\n",
       " '__init__',\n",
       " '__init_subclass__',\n",
       " '__le__',\n",
       " '__lt__',\n",
       " '__ne__',\n",
       " '__new__',\n",
       " '__reduce__',\n",
       " '__reduce_ex__',\n",
       " '__repr__',\n",
       " '__setattr__',\n",
       " '__sizeof__',\n",
       " '__str__',\n",
       " '__subclasshook__']"
      ]
     },
     "execution_count": 45,
     "metadata": {},
     "output_type": "execute_result"
    }
   ],
   "source": [
    "dir(detection)"
   ]
  },
  {
   "cell_type": "code",
   "execution_count": 50,
   "metadata": {},
   "outputs": [
    {
     "name": "stdout",
     "output_type": "stream",
     "text": [
      "Dog in view.  Species being identified\n",
      "image is recognized as 'bell pepper' (class #945) with 94.628906% confidence\n",
      "Dog in view.  Species being identified\n",
      "image is recognized as 'tennis ball' (class #852) with 65.380859% confidence\n",
      "Dog in view.  Species being identified\n",
      "image is recognized as 'jellyfish' (class #107) with 31.250000% confidence\n",
      "Dog in view.  Species being identified\n",
      "image is recognized as 'tennis ball' (class #852) with 26.928711% confidence\n",
      "Dog in view.  Species being identified\n",
      "image is recognized as 'tennis ball' (class #852) with 66.699219% confidence\n",
      "Dog in view.  Species being identified\n",
      "image is recognized as 'tennis ball' (class #852) with 45.971680% confidence\n",
      "Dog in view.  Species being identified\n",
      "image is recognized as 'tennis ball' (class #852) with 56.689453% confidence\n",
      "Dog in view.  Species being identified\n",
      "image is recognized as 'tennis ball' (class #852) with 43.505859% confidence\n",
      "Dog in view.  Species being identified\n",
      "image is recognized as 'tennis ball' (class #852) with 15.368652% confidence\n",
      "Dog in view.  Species being identified\n",
      "image is recognized as 'tennis ball' (class #852) with 28.442383% confidence\n",
      "Dog in view.  Species being identified\n",
      "image is recognized as 'tennis ball' (class #852) with 18.286133% confidence\n",
      "Dog in view.  Species being identified\n",
      "image is recognized as 'Chihuahua' (class #151) with 43.066406% confidence\n",
      "Dog in view.  Species being identified\n",
      "image is recognized as 'nipple' (class #680) with 15.979004% confidence\n",
      "Dog in view.  Species being identified\n",
      "image is recognized as 'toy terrier' (class #158) with 31.274414% confidence\n",
      "Dog in view.  Species being identified\n",
      "image is recognized as 'miniature pinscher' (class #237) with 23.803711% confidence\n"
     ]
    },
    {
     "ename": "KeyboardInterrupt",
     "evalue": "",
     "output_type": "error",
     "traceback": [
      "\u001b[0;31m---------------------------------------------------------------------------\u001b[0m",
      "\u001b[0;31mKeyboardInterrupt\u001b[0m                         Traceback (most recent call last)",
      "\u001b[0;32m<ipython-input-50-61468c1d9c78>\u001b[0m in \u001b[0;36m<module>\u001b[0;34m()\u001b[0m\n\u001b[1;32m      2\u001b[0m \u001b[0;32mwhile\u001b[0m \u001b[0;32mTrue\u001b[0m\u001b[0;34m:\u001b[0m\u001b[0;34m\u001b[0m\u001b[0;34m\u001b[0m\u001b[0m\n\u001b[1;32m      3\u001b[0m     \u001b[0mimg\u001b[0m \u001b[0;34m=\u001b[0m \u001b[0mvideo_camera\u001b[0m\u001b[0;34m.\u001b[0m\u001b[0mCapture\u001b[0m\u001b[0;34m(\u001b[0m\u001b[0;34m)\u001b[0m\u001b[0;34m\u001b[0m\u001b[0;34m\u001b[0m\u001b[0m\n\u001b[0;32m----> 4\u001b[0;31m     \u001b[0mdetections\u001b[0m \u001b[0;34m=\u001b[0m \u001b[0mvideo_net\u001b[0m\u001b[0;34m.\u001b[0m\u001b[0mDetect\u001b[0m\u001b[0;34m(\u001b[0m\u001b[0mimg\u001b[0m\u001b[0;34m)\u001b[0m\u001b[0;34m\u001b[0m\u001b[0;34m\u001b[0m\u001b[0m\n\u001b[0m\u001b[1;32m      5\u001b[0m     \u001b[0;31m#display.Render(img)\u001b[0m\u001b[0;34m\u001b[0m\u001b[0;34m\u001b[0m\u001b[0;34m\u001b[0m\u001b[0m\n\u001b[1;32m      6\u001b[0m     \u001b[0;31m#display.SetStatus(\"Object Detection | Network {:.0f} FPS\".format(video_net.GetNetworkFPS()))\u001b[0m\u001b[0;34m\u001b[0m\u001b[0;34m\u001b[0m\u001b[0;34m\u001b[0m\u001b[0m\n",
      "\u001b[0;31mKeyboardInterrupt\u001b[0m: "
     ]
    }
   ],
   "source": [
    "#Run the live stream\n",
    "while True:\n",
    "    img = video_camera.Capture()\n",
    "    detections = video_net.Detect(img)\n",
    "    #display.Render(img)\n",
    "    #display.SetStatus(\"Object Detection | Network {:.0f} FPS\".format(video_net.GetNetworkFPS())) \n",
    "\n",
    "    #Get ClassID for the objects\n",
    "    for detection in detections:\n",
    "        class_idx = detection.ClassID\n",
    "        class_confidence = detection.Confidence\n",
    "        class_desc = video_net.GetClassDesc(class_idx)\n",
    "        #print(f\"{class_desc} at {class_confidence*100}%\")\n",
    "\n",
    "        #React if ClassID is that of a cat\n",
    "        if (class_desc ==\"dog\") and (class_confidence >= .9):\n",
    "            print(\"Dog in view.  Species being identified\")\n",
    "            #snapshot = jetson_utils.cudaAllocMapped(width=int(detection.Left)-int(detection.Right),height=int(detection.Top)-int(detection.Bottom),format=img.format)\n",
    "            roi = (int(detection.Left), int(detection.cTop), int(detection.Right), int(detection.Bottom))\n",
    "            snapshot = cudaAllocMapped(width=roi[2]-roi[0], height=roi[3]-roi[1], format=img.format)\n",
    "            cudaCrop(img, snapshot, roi)\n",
    "            cudaDeviceSynchronize()\n",
    "            timestamp = datetime.datetime.now().strftime('%Y%m%d-%H%M%S-%f')\n",
    "            saveImage(\"dog.jpg\",snapshot)#os.path.join(f\"{timestamp}-{class_idx}.jpg\"), snapshot)\n",
    "            del snapshot\n",
    "            dog_img = jetson_utils.loadImage(\"dog.jpg\")\n",
    "            dog_idx, confidence = image_net.Classify(dog_img)\n",
    "            #             img = jetson_utils.loadImage(opt.filename)\n",
    "#             print(f\"Time spent to Load Image: {int(time.time()-starttime)} seconds\")\n",
    "#             class_idx, confidence = net.Classify(img)\n",
    "\n",
    "            dog_class_desc = image_net.GetClassDesc(dog_idx)\n",
    "            print(\"image is recognized as '{:s}' (class #{:d}) with {:f}% confidence\".format(dog_class_desc, dog_idx, confidence * 100))\n",
    "            "
   ]
  },
  {
   "cell_type": "code",
   "execution_count": null,
   "metadata": {},
   "outputs": [],
   "source": []
  }
 ],
 "metadata": {
  "kernelspec": {
   "display_name": "Python 3",
   "language": "python",
   "name": "python3"
  },
  "language_info": {
   "codemirror_mode": {
    "name": "ipython",
    "version": 3
   },
   "file_extension": ".py",
   "mimetype": "text/x-python",
   "name": "python",
   "nbconvert_exporter": "python",
   "pygments_lexer": "ipython3",
   "version": "3.6.9"
  }
 },
 "nbformat": 4,
 "nbformat_minor": 2
}
