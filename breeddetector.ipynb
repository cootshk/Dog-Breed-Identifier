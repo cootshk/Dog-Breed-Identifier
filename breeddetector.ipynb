{
 "cells": [
  {
   "cell_type": "code",
   "execution_count": null,
   "metadata": {},
   "outputs": [],
   "source": [
    "import jetson_inference\n",
    "import jetson_utils\n",
    "from jetson_utils import cudaCrop,cudaDeviceSynchronize,cudaAllocMapped, saveImage\n",
    "import argparse\n",
    "import time\n",
    "import os"
   ]
  },
  {
   "cell_type": "code",
   "execution_count": null,
   "metadata": {},
   "outputs": [],
   "source": [
    "parser = argparse.ArgumentParser(description=\"Find the breed of dog in an image\",formatter_class=argparse.RawTextHelpFormatter,epilog=\"uh idk what to put here\")\n",
    "parser.add_argument(\"--headed\", \"-h\",type=bool,default=False,help=\"True/False, If the camera window should be opened. Defaults to False\")\n",
    "parser.add_argument(\"--threashold\",\"-t\", type=float, default=.9,help=\"Percent needed for species identification. Use 0 to disable. Defaults to 0.9\")\n",
    "parser.add_argument(\"--device\",\"-d\", type=str,default=\"/dev/video0\",help=\"Camera/RTP Stream to use. Defaults to /dev/video0 (usb camera). Use the command ls /dev/video* to check devices\")\n",
    "parser.add_argument(\"--filename\",\"-f\", type=str,default=\"dog\",help=\"The filename to use for the image and videos (use a path to save outside of the current directory).\")\n",
    "args = parser.parse_known_args()[0]\n",
    "headless = bool(args.headed)\n",
    "percentneeded = float(args.threashold)"
   ]
  },
  {
   "cell_type": "code",
   "execution_count": null,
   "metadata": {},
   "outputs": [],
   "source": [
    "#Instanciate Detection Objects\n",
    "#net = jetson_inference.detectNet(\"ssd-mobilenet-v2\",threshold=0.5)\n",
    "starttime = time.time() #get the time before loading the objectnet\n",
    "video_net = jetson_inference.detectNet(\"coco-dog\",['--log-level=error'],threshold=0.5) #load the objectnet\n",
    "print(f\"Time spent to Load Video: {int(time.time()-starttime)} seconds\") #find loading duration"
   ]
  },
  {
   "cell_type": "code",
   "execution_count": null,
   "metadata": {},
   "outputs": [],
   "source": [
    "# Define the video Source.\n",
    "video_camera = jetson_utils.videoSource(args.device) #define the video camera with -d"
   ]
  },
  {
   "cell_type": "code",
   "execution_count": null,
   "metadata": {},
   "outputs": [],
   "source": [
    "if headless:\n",
    "    print(\"program is running in headless mode\")\n",
    "else:\n",
    "    display = jetson_utils.videoOutput(f\"file://{args.filename}.mp4\") #create file to stream to window"
   ]
  },
  {
   "cell_type": "code",
   "execution_count": null,
   "metadata": {},
   "outputs": [],
   "source": [
    "#Instanciate Image Recognition Objects\n",
    "starttime = time.time() #get time before loading the imagenet\n",
    "image_net = jetson_inference.imageNet('googlenet',['--log-level=error']) #load the aforementioned imagenet\n",
    "print(f\"Time spent to Create Network: {int(time.time()-starttime)} seconds\") #get time after loading the aforementioned aforementioned imagenet, and subtract the aforementioned time before loading the aforementioned aforementioned aforementioned imagenet"
   ]
  },
  {
   "cell_type": "code",
   "execution_count": null,
   "metadata": {},
   "outputs": [],
   "source": [
    "#Run the live stream\n",
    "while True:\n",
    "    img = video_camera.Capture() #capture frame\n",
    "    detections = video_net.Detect(img) #start detection\n",
    "    if headless:\n",
    "        pass\n",
    "    else:\n",
    "        display.Render(img) #create/update window\n",
    "        display.SetStatus(\"Object Detection | Network {:.0f} FPS\".format(video_net.GetNetworkFPS())) #set title\n",
    "    ### Dog detection time (dog/cat/person/etc)\n",
    "    #Get ClassID for the objects\n",
    "    for detection in detections: #for every detection\n",
    "        class_idx = detection.ClassID #object types\n",
    "        class_confidence = detection.Confidence #confidence\n",
    "        class_desc = video_net.GetClassDesc(class_idx) #descriptions for every class (i.e. Dog), breed identification coming soon\n",
    "        #print(f\"{class_desc} at {class_confidence*100}%\") #uncomment this if you want to hear about everything detected (prints \"dog at 90%\")\n",
    "\n",
    "        ###Breed identification time (i.e. poodle, husky)\n",
    "        if class_desc ==\"dog\" and class_confidence >= int(percentneeded): #if its confident that we found a dog\n",
    "            print(f\"Dog found with {class_confidence * 100}% confidence\") #ok we found a dog, time to classify it\n",
    "            roi = (int(detection.Left), int(detection.cTop), int(detection.Right), int(detection.Bottom)) #dimensions of boundary box\n",
    "            snapshot = cudaAllocMapped(width=roi[2]-roi[0], height=roi[3]-roi[1], format=img.format) #take photo\n",
    "            cudaCrop(img, snapshot, roi) #crop photo\n",
    "            cudaDeviceSynchronize()\n",
    "            saveImage(f\"{args.filename}.jpg\",snapshot) #save the image in the directory specified with -d\n",
    "            del snapshot\n",
    "            dog_img = jetson_utils.loadImage(\"dog.jpg\") #gotta reload that image, man\n",
    "            dog_idx, confidence = image_net.Classify(dog_img) #classify dog selection\n",
    "            dog_class_desc = image_net.GetClassDesc(dog_idx) #breed class ids\n",
    "            print(\"image is recognized as '{:s}' (class #{:d}) with {:f}% confidence\".format(dog_class_desc, dog_idx, confidence * 100)) #print statement\n",
    "            "
   ]
  }
 ],
 "metadata": {
  "kernelspec": {
   "display_name": "Python 3.10.7 64-bit",
   "language": "python",
   "name": "python3"
  },
  "language_info": {
   "codemirror_mode": {
    "name": "ipython",
    "version": 3
   },
   "file_extension": ".py",
   "mimetype": "text/x-python",
   "name": "python",
   "nbconvert_exporter": "python",
   "pygments_lexer": "ipython3",
   "version": "3.10.7"
  },
  "vscode": {
   "interpreter": {
    "hash": "109aa0a667bb18d4bc53687a771896eed0fb98fe200b271775e2895db769b47b"
   }
  }
 },
 "nbformat": 4,
 "nbformat_minor": 2
}
