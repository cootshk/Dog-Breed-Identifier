{
 "cells": [
  {
   "cell_type": "code",
   "execution_count": null,
   "metadata": {},
   "outputs": [],
   "source": [
    "import jetson_inference\n",
    "import jetson_utils\n",
    "from jetson_utils import cudaCrop,cudaDeviceSynchronize,cudaAllocMapped, saveImage\n",
    "import argparse\n",
    "import time\n",
    "import os\n",
    "import json"
   ]
  },
  {
   "cell_type": "code",
   "execution_count": null,
   "metadata": {},
   "outputs": [],
   "source": [
    "parser = argparse.ArgumentParser(description=\"Find the breed of dog in an image\",formatter_class=argparse.RawTextHelpFormatter,epilog=\"uh idk what to put here\")\n",
    "parser.add_argument(\"--headed\", \"-w\",type=bool,default=False,help=\"True/False, If the camera window should be opened. Defaults to False\")\n",
    "parser.add_argument(\"--threashold\",\"-t\", type=float, default=.9,help=\"Percent needed for species identification. Use 0 to disable. Defaults to 0.9\")\n",
    "parser.add_argument(\"--device\",\"-d\", type=str,default=\"/dev/video0\",help=\"Camera/RTP Stream to use. Defaults to /dev/video0 (usb camera). Use the command ls /dev/video* to check devices\")\n",
    "parser.add_argument(\"--filename\",\"-f\", type=str,default=\"dog\",help=\"The filename to use for the image and videos (use a path to save outside of the current directory). DO NOT INCLUDE A FILE EXTENSION\")\n",
    "args = parser.parse_known_args()[0]\n",
    "headed = bool(args.headed)\n",
    "if args.threashold > 1:\n",
    "    percentneeded = float(args.threashold)/100\n",
    "else:\n",
    "    percentneeded = float(args.threashold)\n",
    "filename = str(args.filename).replace(\".mp4\",\"\").replace(\".jpg\",\"\")"
   ]
  },
  {
   "cell_type": "code",
   "execution_count": null,
   "metadata": {},
   "outputs": [],
   "source": [
    "#Instanciate Detection Objects\n",
    "starttime = time.time() #get the time before loading the objectnet\n",
    "video_net = jetson_inference.detectNet(\"coco-dog\",['--log-level=error'],threshold=0.5) #load the objectnet\n",
    "print(f\"\\033[0mTime spent to Load Video: {int(time.time()-starttime)} seconds\") #find loading duration"
   ]
  },
  {
   "cell_type": "code",
   "execution_count": null,
   "metadata": {},
   "outputs": [],
   "source": [
    "video_camera = jetson_utils.videoSource(args.device) #define the video camera with -d\n",
    "try:\n",
    "    capture_test = video_camera.Capture() #test if video device exists\n",
    "    del capture_test\n",
    "except:\n",
    "    print(f\"\\033[91mThe {args.device} device is not connected/not a valid video device. Please specify a different device with the -d flag.\")\n",
    "    exit()"
   ]
  },
  {
   "cell_type": "code",
   "execution_count": null,
   "metadata": {},
   "outputs": [],
   "source": [
    "if headed:\n",
    "    display = jetson_utils.videoOutput(f\"file://{args.filename}.mp4\") #create file to stream to window\n",
    "    print(\"Program is running in headed mode. A window will be opened once the program starts.\")\n",
    "else:\n",
    "    print(\"Program is running in headless mode.\")"
   ]
  },
  {
   "cell_type": "code",
   "execution_count": null,
   "metadata": {},
   "outputs": [],
   "source": [
    "#Instanciate Image Recognition Objects\n",
    "starttime = time.time() #get time before loading the imagenet\n",
    "image_net = jetson_inference.imageNet('googlenet',['--log-level=error']) #load the aforementioned imagenet\n",
    "print(f\"Time spent to Create Network: {int(time.time()-starttime)} seconds\") #get time after loading the aforementioned aforementioned imagenet, and subtract the aforementioned time before loading the aforementioned aforementioned aforementioned imagenet"
   ]
  },
  {
   "cell_type": "code",
   "execution_count": null,
   "metadata": {},
   "outputs": [],
   "source": [
    "#Load dog breed list\n",
    "with open(\"breedlists.json\", \"r\") as f:\n",
    "    doglists = json.load(f)\n",
    "    dogids = doglists.keys()"
   ]
  },
  {
   "cell_type": "code",
   "execution_count": null,
   "metadata": {},
   "outputs": [
    {
     "ename": "",
     "evalue": "",
     "output_type": "error",
     "traceback": [
      "\u001b[1;31mRunning cells with 'Python 3.6.9 64-bit' requires ipykernel package.\n",
      "\u001b[1;31mRun the following command to install 'ipykernel' into the Python environment. \n",
      "\u001b[1;31mCommand: '/usr/bin/python3 -m pip install ipykernel -U --user --force-reinstall'"
     ]
    }
   ],
   "source": [
    "def detect_breed(detection,img,dogs): # detect breed function\n",
    "    roi = (int(detection.Left), int(detection.Top), int(detection.Right), int(detection.Bottom)) #dimensions of boundary box\n",
    "    snapshot = cudaAllocMapped(width=roi[2]-roi[0], height=roi[3]-roi[1], format=img.format) #take photo\n",
    "    cudaCrop(img, snapshot, roi) #crop photo\n",
    "    cudaDeviceSynchronize()\n",
    "    saveImage(f\"{args.filename}.jpg\",snapshot) #save the image in the directory specified with -d\n",
    "    del snapshot\n",
    "    dog_img = jetson_utils.loadImage(f\"{args.filename}.jpg\") #load the saved image\n",
    "    dog_idx, dog_confidence = image_net.Classify(dog_img) #classify dog selection\n",
    "    dog_class_desc = image_net.GetClassDesc(dog_idx) #breed class ids\n",
    "    if str(dog_class_desc) in dogs: #check if dog\n",
    "        return (dog_class_desc, dog_idx, dog_confidence)\n"
   ]
  },
  {
   "cell_type": "code",
   "execution_count": null,
   "metadata": {},
   "outputs": [],
   "source": [
    "#its loop time\n",
    "print(\"Program starting!\")\n",
    "while True:\n",
    "    img = video_camera.Capture() #capture frame\n",
    "    detections = video_net.Detect(img) #start detection\n",
    "    if headed:\n",
    "        display.Render(img) #create/update window\n",
    "        display.SetStatus(\"Object Detection | Network {:.0f} FPS\".format(video_net.GetNetworkFPS())) #set title\n",
    "    else:\n",
    "        pass\n",
    "    ### Dog detection time (dog/cat/person/etc)\n",
    "    #Get ClassID for the objects\n",
    "    for detection in detections: #for every detection\n",
    "        class_idx = detection.ClassID #object types\n",
    "        class_confidence = detection.Confidence #confidence\n",
    "        class_desc = video_net.GetClassDesc(class_idx) #descriptions for every class (i.e. Dog), breed identification coming soon\n",
    "        #print(f\"{class_desc} at {class_confidence*100}%\") #uncomment this if you want to hear about everything detected (prints \"dog at 90%\")\n",
    "       ###Breed identification time (i.e. poodle, husky)\n",
    "        if class_desc ==\"dog\" and class_confidence >= percentneeded: #if its confident that we found a dog\n",
    "            print(f\"\\033[0mDog found with {class_confidence * 100}% confidence\") #ok we found a dog, time to classify it\n",
    "            try:\n",
    "                dog_class_desc, dog_idx, dog_confidence = detect_breed(detection,img,dogs)\n",
    "                print(\"\\033[92mThe dog is a '{:s}' (class #{:d} with {:f}% confidence)\".format(dog_class_desc, dog_idx, dog_confidence * 100)) #if dog, print results\n",
    "            except: \n",
    "                print(\"\\033[91mCould not identify dog breed.\")"
   ]
  }
 ],
 "metadata": {
  "kernelspec": {
   "display_name": "Python 3.6.9 64-bit",
   "language": "python",
   "name": "python3"
  },
  "language_info": {
   "codemirror_mode": {
    "name": "ipython",
    "version": 3
   },
   "file_extension": ".py",
   "mimetype": "text/x-python",
   "name": "python",
   "nbconvert_exporter": "python",
   "pygments_lexer": "ipython3",
   "version": "3.6.9"
  },
  "vscode": {
   "interpreter": {
    "hash": "31f2aee4e71d21fbe5cf8b01ff0e069b9275f58929596ceb00d14d90e3e16cd6"
   }
  }
 },
 "nbformat": 4,
 "nbformat_minor": 2
}
